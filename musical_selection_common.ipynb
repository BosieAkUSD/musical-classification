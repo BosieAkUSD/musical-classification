{
 "cells": [
  {
   "cell_type": "markdown",
   "id": "c6324cb0-2e76-4962-831b-2ce78d37ac2b",
   "metadata": {},
   "source": [
    "# AAI-511 Final Project - Bosie Akioyamen, Tursun Alkam, PhD\n"
   ]
  },
  {
   "cell_type": "markdown",
   "id": "dbd0ab7a",
   "metadata": {},
   "source": [
    "# AAI-511 Final Project - Obosie Akioyamen, Tursun Alkam, PhD\n"
   ]
  },
  {
   "cell_type": "markdown",
   "id": "ab1f09a7-0e26-44f3-ab48-1d62b8eda000",
   "metadata": {},
   "source": [
    "# Introduction\n",
    "\n",
    "Music is a form of art that is ubiquitous and has a rich history. Different composers have created music with their unique styles and compositions. However, identifying the composer of a particular piece of music can be a challenging task, especially for novice musicians or listeners. The proposed project aims to use deep learning techniques to identify the composer of a given piece of music accurately.\n",
    "\n",
    "# Objective\n",
    "\n",
    "The primary objective of this project is to develop a deep learning model that can predict the composer of a given musical score accurately. The project aims to accomplish this objective by using two deep learning techniques: Long Short-Term Memory (LSTM) and Convolutional Neural Network (CNN).\n",
    "\n",
    "# Project Timeline\n",
    "\n",
    "- **Module 2 (by the end of Week 2):** The course instructor will group students into teams of two to three members. Canvas, USD Email, or Slack can be used to find prospective team members.\n",
    "- **Module 4 (by the end of Week 4):** Each team's representative will need to submit the \"Team Project Status Update Form.\"\n",
    "- **Module 7 (by the end of Week 7):** Each team should submit deliverables for the course project in the final week:\n",
    "  - Project Report\n",
    "  - Project Notebook\n",
    "\n",
    "It is critical to note that no extensions will be given for any of the final projects' due dates for any reason, and final projects submitted after the final due date will not be graded.\n",
    "\n",
    "# Dataset\n",
    "\n",
    "The project will use a dataset consisting of musical scores from various composers. The dataset will contain MIDI files and sheet music of compositions from well-known classical composers like Bach, Beethoven, Chopin, Mozart, Schubert, etc. The dataset should be labeled with the name of the composer for each score.\n",
    "\n",
    "# Methodology\n",
    "\n",
    "The proposed project will be implemented using the following steps:\n",
    "\n",
    "1. **Data Collection:** Data is collected and provided to you.\n",
    "2. **Data Pre-processing:** Convert the musical scores into a format suitable for deep learning models. This involves converting the musical scores into MIDI files and applying data augmentation techniques.\n",
    "3. **Feature Extraction:** Extract features from the MIDI files, such as notes, chords, and tempo, using music analysis tools.\n",
    "4. **Model Building:** Develop a deep learning model using LSTM and CNN architectures to classify the musical scores according to the composer.\n",
    "5. **Model Training:** Train the deep learning model using the pre-processed and feature-extracted data.\n",
    "6. **Model Evaluation:** Evaluate the performance of the deep learning model using accuracy, precision, and recall metrics.\n",
    "7. **Model Optimization:** Optimize the deep learning model by fine-tuning hyperparameters.\n",
    "\n",
    "# Deliverables\n",
    "\n",
    "- **Project Report:** A comprehensive documentation/report that describes the methodology, data pre-processing steps, feature extraction techniques, model architecture, and training process for reproducibility and future reference. Write your technical report in APA 7 style. Please submit the report in PDF format and use the file naming convention DeliverableName-TeamNumber.pdf; for example, Project_Report-Team1.pdf. Your report should:\n",
    "  - Contain a reference list that includes any external sources, libraries, or frameworks used during the project, including proper citations or acknowledgments.\n",
    "  - Include a concluding section or markdown cell that summarizes the project, highlights key findings, and suggests any potential future improvements or extensions to the work.\n",
    "- **Project Notebook:** A Jupyter Notebook file (.ipynb) that contains the entire project code, including data pre-processing, feature extraction, model building, training, evaluation, and any additional analysis or visualizations performed during the project. This deliverable will be exported from a Jupyter Notebook and submitted as a PDF or HTML file.\n",
    "\n",
    "# Conclusion\n",
    "\n",
    "The proposed project aims to use deep learning techniques to accurately predict the composer of a given musical score. The project will be implemented using LSTM and CNN architectures and will involve data pre-processing, feature extraction, model building, training, and evaluation. The final model can be used by novice musicians, listeners, and music enthusiasts to identify the composer of a musical piece accurately.\n",
    "\n",
    "# Power Usage for this Project\n",
    "\n",
    "You can use Google Colab GPU and TPU in case you need more computation power. Change your runtime in Google Colab notebook to GPU or TPU. Another option is to buy the subscription in case you need more computational power (recommended). Please follow this link to do so: [Google Colab Pro+](https://colab.research.google.com/signup).\n",
    "\n",
    "**NOTE:** Team members may not get the same grade on the Final Team Project, depending on each team member's level of contribution.\n",
    "\n",
    "To understand how your work will be assessed, view the assignment rubric on the Final Team Project page."
   ]
  }
 ],
 "metadata": {
  "kernelspec": {
   "display_name": "Python 3 (ipykernel)",
   "language": "python",
   "name": "python3"
  },
  "language_info": {
   "codemirror_mode": {
    "name": "ipython",
    "version": 3
   },
   "file_extension": ".py",
   "mimetype": "text/x-python",
   "name": "python",
   "nbconvert_exporter": "python",
   "pygments_lexer": "ipython3",
   "version": "3.11.9"
  }
 },
 "nbformat": 4,
 "nbformat_minor": 5
}
